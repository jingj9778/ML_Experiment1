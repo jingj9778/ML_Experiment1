{
 "cells": [
  {
   "cell_type": "code",
   "execution_count": 236,
   "metadata": {},
   "outputs": [
    {
     "name": "stdout",
     "output_type": "stream",
     "text": [
      "10.625966155157828 15.117227882000336\n"
     ]
    },
    {
     "data": {
      "image/png": "[encoded data removed]",
      "text/plain": [
       "<matplotlib.figure.Figure at 0x1a150dbf60>"
      ]
     },
     "metadata": {},
     "output_type": "display_data"
    }
   ],
   "source": [
    "%matplotlib inline\n",
    "from sklearn import datasets as ds  \n",
    "from sklearn.model_selection import train_test_split\n",
    "import numpy as np\n",
    "import matplotlib as mpl\n",
    "import matplotlib.pyplot as plt\n",
    "\n",
    "#读取libsvm格式数据  \n",
    "train_data,train_target=ds.load_svmlight_file(\"/Users/humeng/Desktop/housing_scale.txt\")  \n",
    "                                       \n",
    "#调整数据格式\n",
    "train_target = train_target.reshape(-1, 1)\n",
    "\n",
    "#避免过拟合，采用交叉验证，验证集占训练集30%，\n",
    "x_train, x_validation, y_train, y_validation = train_test_split(train_data,train_target,\n",
    "                                                    test_size=0.3, random_state=0)\n",
    "#print (x_train.shape,x_validation.shape)\n",
    "\n",
    "#初始化参数b\n",
    "b1 = np.ones((x_train.shape[0],1))\n",
    "x_train = np.hstack((x_train.toarray(),b1))\n",
    "b2 = np.ones((x_validation.shape[0],1))\n",
    "x_validation = np.hstack((x_validation.toarray(),b2))\n",
    "\n",
    "\n",
    "#参数初始化\n",
    "l_train = []\n",
    "l_validation = []\n",
    "learningrate = 0.001\n",
    "lamda = 1\n",
    "loop = 10000\n",
    "w = np.zeros((x_train.shape[1],1))\n",
    "\n",
    "#对loss函数求导\n",
    "def gradient(lamda,w,x,y):\n",
    "    return (lamda * w - np.dot(x.T,(y - np.dot(x,w))))/x.shape[1]\n",
    "\n",
    "#求loss\n",
    "def loss(w,x,y):\n",
    "    l = float((0.5 * lamda * np.dot(w.T,w) + 0.5 * np.dot((y - np.dot(x,w)).T,(y - np.dot(x,w))))/x.shape[0])\n",
    "    return l\n",
    "\n",
    "for k in range(loop):\n",
    "    #求得所有样本对Loss函数的梯度\n",
    "    grad = gradient(lamda,w,x_train,y_train)\n",
    "    w = w - learningrate * grad\n",
    "    l_train.append(loss(w,x_train,y_train))\n",
    "    l_validation.append(loss(w,x_validation,y_validation))\n",
    "print(l_train[-1],l_validation[-1])\n",
    "\n",
    "#设置图像\n",
    "plt.rcParams['figure.figsize'] = (10.0, 8.0)\n",
    "plt.plot(np.arange(loop),l_train,label='Train loss')\n",
    "plt.plot(np.arange(loop),l_validation,label='Validation loss')\n",
    "plt.xlabel('Loop')\n",
    "plt.ylabel('Loss')\n",
    "plt.legend(loc='best')\n",
    "plt.grid()\n",
    "\n",
    "plt.show()"
   ]
  },
  {
   "cell_type": "code",
   "execution_count": null,
   "metadata": {
    "collapsed": true
   },
   "outputs": [],
   "source": []
  }
 ],
 "metadata": {
  "kernelspec": {
   "display_name": "Python 3",
   "language": "python",
   "name": "python3"
  },
  "language_info": {
   "codemirror_mode": {
    "name": "ipython",
    "version": 3
   },
   "file_extension": ".py",
   "mimetype": "text/x-python",
   "name": "python",
   "nbconvert_exporter": "python",
   "pygments_lexer": "ipython3",
   "version": "3.6.3"
  }
 },
 "nbformat": 4,
 "nbformat_minor": 2
}
