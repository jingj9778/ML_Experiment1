{
 "cells": [
  {
   "cell_type": "code",
   "execution_count": 7,
   "metadata": {},
   "outputs": [
    {
     "name": "stdout",
     "output_type": "stream",
     "text": [
      "10.38720768005163 9.162623178232845\n",
      "Best accuracy is 0.838509\n"
     ]
    },
    {
     "data": {
      "image/png": "[encoded data removed]",
      "text/plain": [
       "<matplotlib.figure.Figure at 0x1a1a5560b8>"
      ]
     },
     "metadata": {},
     "output_type": "display_data"
    }
   ],
   "source": [
    "%matplotlib inline\n",
    "from sklearn import datasets as ds  \n",
    "from sklearn.model_selection import train_test_split\n",
    "import numpy as np\n",
    "import matplotlib as mpl\n",
    "import matplotlib.pyplot as plt\n",
    "\n",
    "#读取libsvm格式数据  \n",
    "train_data,train_target=ds.load_svmlight_file(\"/Users/humeng/Desktop/australian_scale.txt\")  \n",
    "                                       \n",
    "#调整数据格式\n",
    "train_target = train_target.reshape(-1, 1)\n",
    "\n",
    "#避免过拟合，采用交叉验证，验证集占训练集30%，\n",
    "x_train, x_validation, y_train, y_validation = train_test_split(train_data,train_target,\n",
    "                                                    test_size=0.3, random_state=0)\n",
    "\n",
    "#初始化参数b\n",
    "b1 = np.ones((x_train.shape[0],1))\n",
    "x_train = np.hstack((x_train.toarray(),b1))\n",
    "b2 = np.ones((x_validation.shape[0],1))\n",
    "x_validation = np.hstack((x_validation.toarray(),b2))\n",
    "\n",
    "#print (x_train.shape,x_validation.shape)\n",
    "\n",
    "#参数初始化\n",
    "C = 10\n",
    "learningrate = 0.008\n",
    "loop = 1000\n",
    "w = np.zeros((x_train.shape[1],1))\n",
    "l_train = []\n",
    "l_validation = []\n",
    "best = 0.0\n",
    "\n",
    "#对loss函数求导\n",
    "def gradient(w,C,x,y):\n",
    "    #设立阀值\n",
    "    condition = 1 - np.multiply(y,np.dot(x,w))\n",
    "    y[condition < 0] = 0\n",
    "    #求梯度\n",
    "    grad = w - C * np.dot(x.T, y)\n",
    "    #消除参数b的影响\n",
    "    grad[-1] -= w[-1]\n",
    "    return grad\n",
    "\n",
    "#梯度下降\n",
    "def loss(w,C,x,y):\n",
    "    hinge = np.maximum(0, 1 - np.multiply(y,np.dot(x,w)))\n",
    "    l = float(0.5 * np.dot(w.T,w) + C * np.sum(hinge) / x.shape[0])\n",
    "    return l\n",
    "\n",
    "#求准确率\n",
    "def acc(w, x, threshold=0.0):\n",
    "    score = x.dot(w)\n",
    "    y_pre = np.ones((x.shape[0], 1))\n",
    "    y_pre[score < threshold] = -1\n",
    "    return y_pre\n",
    "\n",
    "for k in range(loop):\n",
    "    #求得所有样本对Loss函数的梯度\n",
    "    grad = gradient(w,C,x_train,y_train)\n",
    "    w = w - learningrate * grad\n",
    "    l_train.append(loss(w,C,x_train,y_train))\n",
    "    l_validation.append(loss(w,C,x_validation,y_validation))\n",
    "    \n",
    "    #计算准确率\n",
    "    y_pre = acc(w, x_train, threshold=0.0)\n",
    "    a = np.mean(y_pre == y_train)\n",
    "    if a > best:\n",
    "        best = a\n",
    "\n",
    "print(l_train[-1],l_validation[-1])\n",
    "print('Best accuracy is %f' % (best))\n",
    "\n",
    "#设置图像\n",
    "plt.rcParams['figure.figsize'] = (10.0, 8.0)\n",
    "plt.plot(np.arange(loop),l_train,label='Train loss')\n",
    "plt.plot(np.arange(loop),l_validation,label='Validation loss')\n",
    "plt.xlabel('Loop')\n",
    "plt.ylabel('Loss')\n",
    "plt.legend(loc='best')\n",
    "plt.grid()\n",
    "\n",
    "plt.show()"
   ]
  },
  {
   "cell_type": "code",
   "execution_count": null,
   "metadata": {
    "collapsed": true
   },
   "outputs": [],
   "source": []
  }
 ],
 "metadata": {
  "kernelspec": {
   "display_name": "Python 3",
   "language": "python",
   "name": "python3"
  },
  "language_info": {
   "codemirror_mode": {
    "name": "ipython",
    "version": 3
   },
   "file_extension": ".py",
   "mimetype": "text/x-python",
   "name": "python",
   "nbconvert_exporter": "python",
   "pygments_lexer": "ipython3",
   "version": "3.6.3"
  }
 },
 "nbformat": 4,
 "nbformat_minor": 2
}
